{
  "cells": [
    {
      "cell_type": "code",
      "execution_count": null,
      "metadata": {
        "id": "b-HGHnC-14QY"
      },
      "outputs": [],
      "source": [
        "# from google.colab import drive\n",
        "# drive.mount('/content/drive')\n",
        "# cd /content/drive/MyDrive/"
      ]
    },
    {
      "cell_type": "code",
      "execution_count": null,
      "metadata": {
        "id": "znZXgNSF8Cd_"
      },
      "outputs": [],
      "source": [
        "# cd /content/drive/MyDrive/DL_Mid/Experiment_2/"
      ]
    },
    {
      "cell_type": "code",
      "execution_count": null,
      "metadata": {
        "colab": {
          "base_uri": "https://localhost:8080/"
        },
        "id": "xSA9DeQ-0GJk",
        "outputId": "7c73aace-e1b1-47bf-bcf0-3a53a4b4fc7c"
      },
      "outputs": [
        {
          "name": "stdout",
          "output_type": "stream",
          "text": [
            "Collecting einops\n",
            "  Downloading einops-0.7.0-py3-none-any.whl (44 kB)\n",
            "\u001b[?25l     \u001b[90m━━━━━━━━━━━━━━━━━━━━━━━━━━━━━━━━━━━━━━━━\u001b[0m \u001b[32m0.0/44.6 kB\u001b[0m \u001b[31m?\u001b[0m eta \u001b[36m-:--:--\u001b[0m\r\u001b[2K     \u001b[90m━━━━━━━━━━━━━━━━━━━━━━━━━━━━━━━━━━━━━━━━\u001b[0m \u001b[32m44.6/44.6 kB\u001b[0m \u001b[31m1.7 MB/s\u001b[0m eta \u001b[36m0:00:00\u001b[0m\n",
            "\u001b[?25hInstalling collected packages: einops\n",
            "Successfully installed einops-0.7.0\n"
          ]
        }
      ],
      "source": [
        "!pip install einops"
      ]
    },
    {
      "cell_type": "code",
      "execution_count": null,
      "metadata": {
        "colab": {
          "base_uri": "https://localhost:8080/"
        },
        "id": "w0a8TAbg3KQd",
        "outputId": "ca504c1e-5ee6-406a-9ebe-f102ba257cb2"
      },
      "outputs": [
        {
          "name": "stdout",
          "output_type": "stream",
          "text": [
            "Downloading https://thor.robots.ox.ac.uk/datasets/pets/images.tar.gz to oxford-iiit-pet/images.tar.gz\n"
          ]
        },
        {
          "name": "stderr",
          "output_type": "stream",
          "text": [
            "100%|██████████| 791918971/791918971 [00:31<00:00, 25484882.81it/s]\n"
          ]
        },
        {
          "name": "stdout",
          "output_type": "stream",
          "text": [
            "Extracting oxford-iiit-pet/images.tar.gz to oxford-iiit-pet\n",
            "Downloading https://thor.robots.ox.ac.uk/datasets/pets/annotations.tar.gz to oxford-iiit-pet/annotations.tar.gz\n"
          ]
        },
        {
          "name": "stderr",
          "output_type": "stream",
          "text": [
            "100%|██████████| 19173078/19173078 [00:01<00:00, 10006930.85it/s]\n"
          ]
        },
        {
          "name": "stdout",
          "output_type": "stream",
          "text": [
            "Extracting oxford-iiit-pet/annotations.tar.gz to oxford-iiit-pet\n"
          ]
        }
      ],
      "source": [
        "import torch\n",
        "from torchvision.datasets import OxfordIIITPet\n",
        "import matplotlib.pyplot as plt\n",
        "from random import random\n",
        "from torchvision.transforms import Resize, ToTensor\n",
        "from torchvision.transforms.functional import to_pil_image\n",
        "\n",
        "to_tensor = [Resize((144, 144)), ToTensor()]\n",
        "\n",
        "class Compose(object):\n",
        "    def __init__(self, transforms):\n",
        "        self.transforms = transforms\n",
        "\n",
        "    def __call__(self, image, target):\n",
        "        for t in self.transforms:\n",
        "            image = t(image)\n",
        "        return image, target\n",
        "\n",
        "# 200 images for each pet\n",
        "dataset = OxfordIIITPet(root=\".\", download=True, transforms=Compose(to_tensor))"
      ]
    },
    {
      "cell_type": "code",
      "execution_count": null,
      "metadata": {
        "colab": {
          "base_uri": "https://localhost:8080/"
        },
        "id": "Ap3RzZa0yZXt",
        "outputId": "d5118da7-949d-4ba2-b53f-18878174ea06"
      },
      "outputs": [
        {
          "name": "stdout",
          "output_type": "stream",
          "text": [
            "Initial shape:  torch.Size([1, 3, 144, 144])\n",
            "Patches shape:  torch.Size([1, 324, 128])\n"
          ]
        }
      ],
      "source": [
        "from torch import nn\n",
        "from einops.layers.torch import Rearrange\n",
        "from torch import Tensor\n",
        "\n",
        "\n",
        "class PatchEmbedding(nn.Module):\n",
        "    def __init__(self, in_channels = 3, patch_size = 8, emb_size = 128):\n",
        "        self.patch_size = patch_size\n",
        "        super().__init__()\n",
        "        self.projection = nn.Sequential(\n",
        "            # break-down the image in s1 x s2 patches and flat them\n",
        "            Rearrange('b c (h p1) (w p2) -> b (h w) (p1 p2 c)', p1=patch_size, p2=patch_size),\n",
        "            nn.Linear(patch_size * patch_size * in_channels, emb_size)\n",
        "        )\n",
        "\n",
        "    def forward(self, x: Tensor) -> Tensor:\n",
        "        x = self.projection(x)\n",
        "        return x\n",
        "\n",
        "# Run a quick test\n",
        "sample_datapoint = torch.unsqueeze(dataset[0][0], 0)\n",
        "print(\"Initial shape: \", sample_datapoint.shape)\n",
        "embedding = PatchEmbedding()(sample_datapoint)\n",
        "print(\"Patches shape: \", embedding.shape)"
      ]
    },
    {
      "cell_type": "code",
      "execution_count": null,
      "metadata": {
        "id": "lbKH_cEt_AGF"
      },
      "outputs": [],
      "source": [
        "from einops import rearrange\n",
        "\n",
        "class Attention(nn.Module):\n",
        "    def __init__(self, dim, n_heads, dropout):\n",
        "        super().__init__()\n",
        "        self.n_heads = n_heads\n",
        "        self.att = torch.nn.MultiheadAttention(embed_dim=dim,\n",
        "                                               num_heads=n_heads,\n",
        "                                               dropout=dropout)\n",
        "        self.q = torch.nn.Linear(dim, dim)\n",
        "        self.k = torch.nn.Linear(dim, dim)\n",
        "        self.v = torch.nn.Linear(dim, dim)\n",
        "\n",
        "    def forward(self, x):\n",
        "        q = self.q(x)\n",
        "        k = self.k(x)\n",
        "        v = self.v(x)\n",
        "        attn_output, attn_output_weights = self.att(x, x, x)\n",
        "        return attn_output"
      ]
    },
    {
      "cell_type": "code",
      "execution_count": null,
      "metadata": {
        "id": "LZIq8qATHX7p"
      },
      "outputs": [],
      "source": [
        "class PreNorm(nn.Module):\n",
        "    def __init__(self, dim, fn):\n",
        "        super().__init__()\n",
        "        self.norm = nn.LayerNorm(dim)\n",
        "        self.fn = fn\n",
        "    def forward(self, x, **kwargs):\n",
        "        return self.fn(self.norm(x), **kwargs)"
      ]
    },
    {
      "cell_type": "code",
      "execution_count": null,
      "metadata": {
        "colab": {
          "base_uri": "https://localhost:8080/"
        },
        "id": "TpYpgqCqHcrs",
        "outputId": "215f7991-96ab-4cf1-c363-e3681ca21abd"
      },
      "outputs": [
        {
          "data": {
            "text/plain": [
              "torch.Size([1, 5, 128])"
            ]
          },
          "execution_count": 8,
          "metadata": {},
          "output_type": "execute_result"
        }
      ],
      "source": [
        "norm = PreNorm(128, Attention(dim=128, n_heads=4, dropout=0.))\n",
        "norm(torch.ones((1, 5, 128))).shape"
      ]
    },
    {
      "cell_type": "code",
      "execution_count": null,
      "metadata": {
        "colab": {
          "base_uri": "https://localhost:8080/"
        },
        "id": "XGsxbcqxIGJg",
        "outputId": "e39174ed-ced2-47d3-93a4-cadbbbd65508"
      },
      "outputs": [
        {
          "data": {
            "text/plain": [
              "torch.Size([1, 5, 128])"
            ]
          },
          "execution_count": 9,
          "metadata": {},
          "output_type": "execute_result"
        }
      ],
      "source": [
        "class FeedForward(nn.Sequential):\n",
        "    def __init__(self, dim, hidden_dim, dropout = 0.):\n",
        "        super().__init__(\n",
        "            nn.Linear(dim, hidden_dim),\n",
        "            nn.GELU(),\n",
        "            nn.Dropout(dropout),\n",
        "            nn.Linear(hidden_dim, dim),\n",
        "            nn.Dropout(dropout)\n",
        "        )\n",
        "ff = FeedForward(dim=128, hidden_dim=256)\n",
        "ff(torch.ones((1, 5, 128))).shape"
      ]
    },
    {
      "cell_type": "code",
      "execution_count": null,
      "metadata": {
        "id": "WuWewoFfI7Vs"
      },
      "outputs": [],
      "source": [
        "class ResidualAdd(nn.Module):\n",
        "    def __init__(self, fn):\n",
        "        super().__init__()\n",
        "        self.fn = fn\n",
        "\n",
        "    def forward(self, x, **kwargs):\n",
        "        res = x\n",
        "        x = self.fn(x, **kwargs)\n",
        "        x += res\n",
        "        return x"
      ]
    },
    {
      "cell_type": "code",
      "execution_count": null,
      "metadata": {
        "colab": {
          "base_uri": "https://localhost:8080/"
        },
        "id": "hiv5BDUAI73N",
        "outputId": "8c490291-a1cf-49a1-ba78-3bd85ff63715"
      },
      "outputs": [
        {
          "data": {
            "text/plain": [
              "torch.Size([1, 5, 128])"
            ]
          },
          "execution_count": 11,
          "metadata": {},
          "output_type": "execute_result"
        }
      ],
      "source": [
        "residual_att = ResidualAdd(Attention(dim=128, n_heads=4, dropout=0.))\n",
        "residual_att(torch.ones((1, 5, 128))).shape"
      ]
    },
    {
      "cell_type": "code",
      "execution_count": null,
      "metadata": {
        "colab": {
          "base_uri": "https://localhost:8080/"
        },
        "id": "KVVWmPso4eGf",
        "outputId": "ad05e082-31e7-4a7e-9020-09e0ca325ec3"
      },
      "outputs": [
        {
          "name": "stdout",
          "output_type": "stream",
          "text": [
            "ViT(\n",
            "  (patch_embedding): PatchEmbedding(\n",
            "    (projection): Sequential(\n",
            "      (0): Rearrange('b c (h p1) (w p2) -> b (h w) (p1 p2 c)', p1=4, p2=4)\n",
            "      (1): Linear(in_features=48, out_features=32, bias=True)\n",
            "    )\n",
            "  )\n",
            "  (layers): ModuleList(\n",
            "    (0-5): 6 x Sequential(\n",
            "      (0): ResidualAdd(\n",
            "        (fn): PreNorm(\n",
            "          (norm): LayerNorm((32,), eps=1e-05, elementwise_affine=True)\n",
            "          (fn): Attention(\n",
            "            (att): MultiheadAttention(\n",
            "              (out_proj): NonDynamicallyQuantizableLinear(in_features=32, out_features=32, bias=True)\n",
            "            )\n",
            "            (q): Linear(in_features=32, out_features=32, bias=True)\n",
            "            (k): Linear(in_features=32, out_features=32, bias=True)\n",
            "            (v): Linear(in_features=32, out_features=32, bias=True)\n",
            "          )\n",
            "        )\n",
            "      )\n",
            "      (1): ResidualAdd(\n",
            "        (fn): PreNorm(\n",
            "          (norm): LayerNorm((32,), eps=1e-05, elementwise_affine=True)\n",
            "          (fn): FeedForward(\n",
            "            (0): Linear(in_features=32, out_features=32, bias=True)\n",
            "            (1): GELU(approximate='none')\n",
            "            (2): Dropout(p=0.1, inplace=False)\n",
            "            (3): Linear(in_features=32, out_features=32, bias=True)\n",
            "            (4): Dropout(p=0.1, inplace=False)\n",
            "          )\n",
            "        )\n",
            "      )\n",
            "    )\n",
            "  )\n",
            "  (head): Sequential(\n",
            "    (0): LayerNorm((32,), eps=1e-05, elementwise_affine=True)\n",
            "    (1): Linear(in_features=32, out_features=37, bias=True)\n",
            "  )\n",
            ")\n"
          ]
        },
        {
          "data": {
            "text/plain": [
              "tensor([[-0.1852, -0.9445,  0.2364, -0.8461,  0.1205, -0.7807, -1.0134, -1.0329,\n",
              "          0.5770,  0.1415, -0.7187,  0.1885, -0.0244,  0.1373, -0.7006,  0.1391,\n",
              "          1.0866,  0.1017, -0.4595, -0.1039, -0.2294, -0.3538, -0.0231, -0.0345,\n",
              "          0.2713,  0.7603, -0.0750, -0.4995, -0.1247,  0.4301,  0.3690, -0.2974,\n",
              "         -0.4604,  0.5961,  0.2511,  0.0715,  0.1383]],\n",
              "       grad_fn=<AddmmBackward0>)"
            ]
          },
          "execution_count": 12,
          "metadata": {},
          "output_type": "execute_result"
        }
      ],
      "source": [
        "from einops import repeat\n",
        "\n",
        "class ViT(nn.Module):\n",
        "    def __init__(self, ch=3, img_size=144, patch_size=4, emb_dim=32,\n",
        "                n_layers=6, out_dim=37, dropout=0.1, heads=2):\n",
        "        super(ViT, self).__init__()\n",
        "\n",
        "        # Attributes\n",
        "        self.channels = ch\n",
        "        self.height = img_size\n",
        "        self.width = img_size\n",
        "        self.patch_size = patch_size\n",
        "        self.n_layers = n_layers\n",
        "\n",
        "        # Patching\n",
        "        self.patch_embedding = PatchEmbedding(in_channels=ch,\n",
        "                                              patch_size=patch_size,\n",
        "                                              emb_size=emb_dim)\n",
        "        # Learnable params\n",
        "        num_patches = (img_size // patch_size) ** 2\n",
        "        self.pos_embedding = nn.Parameter(\n",
        "            torch.randn(1, num_patches + 1, emb_dim))\n",
        "        self.cls_token = nn.Parameter(torch.rand(1, 1, emb_dim))\n",
        "\n",
        "        # Transformer Encoder\n",
        "        self.layers = nn.ModuleList([])\n",
        "        for _ in range(n_layers):\n",
        "            transformer_block = nn.Sequential(\n",
        "                ResidualAdd(PreNorm(emb_dim, Attention(emb_dim, n_heads = heads, dropout = dropout))),\n",
        "                ResidualAdd(PreNorm(emb_dim, FeedForward(emb_dim, emb_dim, dropout = dropout))))\n",
        "            self.layers.append(transformer_block)\n",
        "\n",
        "        # Classification head\n",
        "        self.head = nn.Sequential(nn.LayerNorm(emb_dim), nn.Linear(emb_dim, out_dim))\n",
        "\n",
        "\n",
        "    def forward(self, img):\n",
        "        # Get patch embedding vectors\n",
        "        x = self.patch_embedding(img)\n",
        "        b, n, _ = x.shape\n",
        "\n",
        "        # Add cls token to inputs\n",
        "        cls_tokens = repeat(self.cls_token, '1 1 d -> b 1 d', b = b)\n",
        "        x = torch.cat([cls_tokens, x], dim=1)\n",
        "        x += self.pos_embedding[:, :(n + 1)]\n",
        "\n",
        "        # Transformer layers\n",
        "        for i in range(self.n_layers):\n",
        "            x = self.layers[i](x)\n",
        "\n",
        "        # Output based on classification token\n",
        "        return self.head(x[:, 0, :])\n",
        "\n",
        "\n",
        "model = ViT()\n",
        "print(model)\n",
        "model(torch.ones((1, 3, 144, 144)))\n"
      ]
    },
    {
      "cell_type": "code",
      "execution_count": null,
      "metadata": {
        "colab": {
          "base_uri": "https://localhost:8080/"
        },
        "id": "FsdvFNcr4iFj",
        "outputId": "25956f56-1019-4255-db69-3e0b74304aea"
      },
      "outputs": [
        {
          "name": "stdout",
          "output_type": "stream",
          "text": [
            "2944\n",
            "736\n"
          ]
        }
      ],
      "source": [
        "from torch.utils.data import DataLoader\n",
        "from torch.utils.data import random_split\n",
        "\n",
        "train_split = int(0.8 * len(dataset))\n",
        "print(int(0.8 * len(dataset)))\n",
        "print(int(0.2 * len(dataset)))\n",
        "\n",
        "train, test = random_split(dataset, [train_split, len(dataset) - train_split])\n",
        "train_dataloader = DataLoader(train, batch_size=32, shuffle=True)\n",
        "test_dataloader = DataLoader(test, batch_size=32, shuffle=True)"
      ]
    },
    {
      "cell_type": "code",
      "execution_count": null,
      "metadata": {
        "colab": {
          "base_uri": "https://localhost:8080/"
        },
        "id": "N-Q_3rEJSOfA",
        "outputId": "a9184284-be5e-4ac2-9591-7e0094916fb0"
      },
      "outputs": [
        {
          "name": "stdout",
          "output_type": "stream",
          "text": [
            ">>> Epoch 0 train loss:  3.6606870371362437\n",
            ">>> Epoch 0 test loss:  3.627238957778267\n",
            "Model saved best ckpt\n",
            ">>> Epoch 5 train loss:  3.6224813564963965\n",
            ">>> Epoch 5 test loss:  3.6240991716799527\n",
            "Model saved best ckpt\n",
            ">>> Epoch 10 train loss:  3.6216313113336978\n",
            ">>> Epoch 10 test loss:  3.621803750162539\n",
            "Model saved best ckpt\n",
            ">>> Epoch 15 train loss:  3.620131992775461\n",
            ">>> Epoch 15 test loss:  3.6270679598269253\n",
            ">>> Epoch 20 train loss:  3.6191858830659287\n",
            ">>> Epoch 20 test loss:  3.6187144466068433\n",
            "Model saved best ckpt\n",
            ">>> Epoch 25 train loss:  3.619204290535139\n",
            ">>> Epoch 25 test loss:  3.6214128369870395\n",
            ">>> Epoch 30 train loss:  3.6169177319692527\n",
            ">>> Epoch 30 test loss:  3.6205176166866138\n",
            ">>> Epoch 35 train loss:  3.616710559181545\n",
            ">>> Epoch 35 test loss:  3.6191451134889023\n",
            ">>> Epoch 40 train loss:  3.6164277895637182\n",
            ">>> Epoch 40 test loss:  3.6190023007600205\n",
            ">>> Epoch 45 train loss:  3.615684988706008\n",
            ">>> Epoch 45 test loss:  3.618891850761745\n",
            ">>> Epoch 50 train loss:  3.6152295392492544\n",
            ">>> Epoch 50 test loss:  3.6202249837958296\n",
            ">>> Epoch 55 train loss:  3.6151658840801404\n",
            ">>> Epoch 55 test loss:  3.6192161207613736\n",
            ">>> Epoch 60 train loss:  3.615025556605795\n",
            ">>> Epoch 60 test loss:  3.6205870483232583\n",
            ">>> Epoch 65 train loss:  3.6141928563947263\n",
            ">>> Epoch 65 test loss:  3.6191646119822627\n",
            ">>> Epoch 70 train loss:  3.6142644778541895\n",
            ">>> Epoch 70 test loss:  3.618008789808854\n",
            "Model saved best ckpt\n",
            ">>> Epoch 75 train loss:  3.6140862625578176\n",
            ">>> Epoch 75 test loss:  3.6201011097949483\n",
            ">>> Epoch 80 train loss:  3.6136071396910627\n",
            ">>> Epoch 80 test loss:  3.6198466757069463\n",
            ">>> Epoch 85 train loss:  3.613129496574402\n",
            ">>> Epoch 85 test loss:  3.6181015968322754\n",
            ">>> Epoch 90 train loss:  3.61326903882234\n",
            ">>> Epoch 90 test loss:  3.6199846267700195\n",
            ">>> Epoch 95 train loss:  3.6125940499098403\n",
            ">>> Epoch 95 test loss:  3.619271133256995\n"
          ]
        }
      ],
      "source": [
        "import torch.optim as optim\n",
        "import numpy as np\n",
        "\n",
        "device = \"cuda\"\n",
        "model = ViT().to(device)\n",
        "optimizer = optim.AdamW(model.parameters(), lr=0.001, betas=(0.9, 0.999), weight_decay = 0.01)\n",
        "\n",
        "# optimizer = optim.AdamW(model.parameters(), lr=0.001)\n",
        "criterion = nn.CrossEntropyLoss()\n",
        "\n",
        "test_loss = 10\n",
        "best_loss = 10\n",
        "\n",
        "for epoch in range(100):\n",
        "    epoch_losses = []\n",
        "    model.train()\n",
        "    for step, (inputs, labels) in enumerate(train_dataloader):\n",
        "        inputs, labels = inputs.to(device), labels.to(device)\n",
        "        optimizer.zero_grad()\n",
        "        outputs = model(inputs)\n",
        "        loss = criterion(outputs, labels)\n",
        "        loss.backward()\n",
        "        optimizer.step()\n",
        "\n",
        "        #get training loss values\n",
        "        epoch_losses.append(loss.item())\n",
        "\n",
        "\n",
        "    if epoch % 5 == 0:\n",
        "        #calculating training loss\n",
        "        print(f\">>> Epoch {epoch} train loss: \", np.mean(epoch_losses))\n",
        "\n",
        "        #initialize for this one\n",
        "        epoch_losses_test = []\n",
        "        model.eval()\n",
        "        for step, (inputs, labels) in enumerate(test_dataloader):\n",
        "            inputs, labels = inputs.to(device), labels.to(device)\n",
        "            outputs = model(inputs)\n",
        "            loss = criterion(outputs, labels)\n",
        "            #get this test lost values\n",
        "            epoch_losses_test.append(loss.item())\n",
        "\n",
        "        #calculating testloss\n",
        "        test_loss = np.mean(epoch_losses_test)\n",
        "\n",
        "        print(f\">>> Epoch {epoch} test loss: \", test_loss)\n",
        "\n",
        "        #saving files\n",
        "        if(best_loss > test_loss):\n",
        "              torch.save(model.state_dict(), 'best.pth')\n",
        "              torch.save(model, 'model_best.pth')\n",
        "              print(\"Model saved best ckpt\")\n",
        "              best_loss = test_loss\n",
        "\n",
        "        torch.save(model.state_dict(), 'last.pth')\n",
        "        torch.save(model, 'model_last.pth')"
      ]
    },
    {
      "cell_type": "code",
      "execution_count": null,
      "metadata": {
        "colab": {
          "base_uri": "https://localhost:8080/"
        },
        "id": "Onf2eduW0rjz",
        "outputId": "d0e76adc-bff1-4eaf-9559-d8b9860e8585"
      },
      "outputs": [
        {
          "data": {
            "text/plain": [
              "ViT(\n",
              "  (patch_embedding): PatchEmbedding(\n",
              "    (projection): Sequential(\n",
              "      (0): Rearrange('b c (h p1) (w p2) -> b (h w) (p1 p2 c)', p1=4, p2=4)\n",
              "      (1): Linear(in_features=48, out_features=32, bias=True)\n",
              "    )\n",
              "  )\n",
              "  (layers): ModuleList(\n",
              "    (0-5): 6 x Sequential(\n",
              "      (0): ResidualAdd(\n",
              "        (fn): PreNorm(\n",
              "          (norm): LayerNorm((32,), eps=1e-05, elementwise_affine=True)\n",
              "          (fn): Attention(\n",
              "            (att): MultiheadAttention(\n",
              "              (out_proj): NonDynamicallyQuantizableLinear(in_features=32, out_features=32, bias=True)\n",
              "            )\n",
              "            (q): Linear(in_features=32, out_features=32, bias=True)\n",
              "            (k): Linear(in_features=32, out_features=32, bias=True)\n",
              "            (v): Linear(in_features=32, out_features=32, bias=True)\n",
              "          )\n",
              "        )\n",
              "      )\n",
              "      (1): ResidualAdd(\n",
              "        (fn): PreNorm(\n",
              "          (norm): LayerNorm((32,), eps=1e-05, elementwise_affine=True)\n",
              "          (fn): FeedForward(\n",
              "            (0): Linear(in_features=32, out_features=32, bias=True)\n",
              "            (1): GELU(approximate='none')\n",
              "            (2): Dropout(p=0.1, inplace=False)\n",
              "            (3): Linear(in_features=32, out_features=32, bias=True)\n",
              "            (4): Dropout(p=0.1, inplace=False)\n",
              "          )\n",
              "        )\n",
              "      )\n",
              "    )\n",
              "  )\n",
              "  (head): Sequential(\n",
              "    (0): LayerNorm((32,), eps=1e-05, elementwise_affine=True)\n",
              "    (1): Linear(in_features=32, out_features=37, bias=True)\n",
              "  )\n",
              ")"
            ]
          },
          "execution_count": 44,
          "metadata": {},
          "output_type": "execute_result"
        }
      ],
      "source": [
        "model = ViT().to(device)\n",
        "model.load_state_dict(torch.load('best.pth'))\n",
        "model.eval()\n"
      ]
    },
    {
      "cell_type": "code",
      "execution_count": null,
      "metadata": {
        "colab": {
          "base_uri": "https://localhost:8080/"
        },
        "id": "V7LkzG6fOt_k",
        "outputId": "3db026ab-a08c-4c40-8e45-b20fa151128e"
      },
      "outputs": [
        {
          "name": "stdout",
          "output_type": "stream",
          "text": [
            "Predicted classes tensor([8, 8, 8, 8, 8, 8, 8, 8, 8, 8, 8, 8, 8, 8, 8, 8, 8, 8, 8, 8, 8, 8, 8, 8,\n",
            "        8, 8, 8, 8, 8, 8, 8, 8, 8, 8, 8, 8, 8, 8, 8, 8, 8, 8, 8, 8, 8, 8, 8, 8,\n",
            "        8, 8, 8, 8, 8, 8, 8, 8, 8, 8, 8, 8, 8, 8, 8, 8, 8, 8, 8, 8, 8, 8, 8, 8,\n",
            "        8, 8, 8, 8, 8, 8, 8, 8, 8, 8, 8, 8, 8, 8, 8, 8, 8, 8, 8, 8, 8, 8, 8, 8,\n",
            "        8, 8, 8, 8], device='cuda:0')\n",
            "Actual classes tensor([ 1,  7, 32, 17, 18, 22, 35,  3, 19, 13,  5, 18,  3,  8,  7, 18, 32, 25,\n",
            "         1, 29, 36, 17,  1,  3, 12, 35, 16, 24, 28,  2,  0,  9,  3,  1, 26,  4,\n",
            "        17, 18, 12,  5, 33,  4, 10,  5, 11, 25, 14, 26,  7, 34, 24, 32, 21, 20,\n",
            "        17,  9, 33, 10, 30,  2,  6,  1, 15, 15,  5, 34,  1, 36, 18, 21, 12, 15,\n",
            "        30,  2,  9, 24, 25, 29, 16,  9,  4, 12,  0, 10, 21, 18, 33, 34, 27, 34,\n",
            "        26,  4, 21,  9, 23,  7, 33, 11, 33,  2], device='cuda:0')\n"
          ]
        }
      ],
      "source": [
        "test_dataloader = DataLoader(test, batch_size=100, shuffle=True)\n",
        "inputs, labels = next(iter(test_dataloader))\n",
        "inputs, labels = inputs.to(device), labels.to(device)\n",
        "outputs = model(inputs)\n",
        "\n",
        "print(\"Predicted classes\", outputs.argmax(-1))\n",
        "print(\"Actual classes\", labels)"
      ]
    },
    {
      "cell_type": "markdown",
      "metadata": {
        "id": "XiTbL6oUwoKb"
      },
      "source": [
        "Well, this model is stupid but we tried"
      ]
    }
  ],
  "metadata": {
    "accelerator": "GPU",
    "colab": {
      "gpuType": "T4",
      "machine_shape": "hm",
      "provenance": []
    },
    "kernelspec": {
      "display_name": "Python 3",
      "name": "python3"
    },
    "language_info": {
      "name": "python"
    }
  },
  "nbformat": 4,
  "nbformat_minor": 0
}
