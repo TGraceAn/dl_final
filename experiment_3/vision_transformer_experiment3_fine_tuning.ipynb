{
  "cells": [
    {
      "cell_type": "code",
      "execution_count": 1,
      "metadata": {
        "id": "2-3VfzTCAXq1"
      },
      "outputs": [],
      "source": [
        "import torch\n",
        "#dataset link: https://www.robots.ox.ac.uk/~vgg/data/pets/ || https://thor.robots.ox.ac.uk/datasets/pets/images.tar.gz || https://thor.robots.ox.ac.uk/datasets/pets/annotations.tar.gz\n",
        "from torchvision.datasets import OxfordIIITPet\n",
        "import matplotlib.pyplot as plt\n",
        "from random import random\n",
        "from torchvision.transforms import Resize, ToTensor\n",
        "from torchvision.transforms.functional import to_pil_image"
      ]
    },
    {
      "cell_type": "code",
      "execution_count": 2,
      "metadata": {
        "id": "km65HLMfBiS5"
      },
      "outputs": [],
      "source": [
        "to_tensor = [Resize((224, 224)), ToTensor()] #pre-processing"
      ]
    },
    {
      "cell_type": "code",
      "execution_count": 3,
      "metadata": {
        "colab": {
          "base_uri": "https://localhost:8080/"
        },
        "id": "lwWKf8JjNchO",
        "outputId": "915dd13a-106d-49cd-c6b3-843990ad022a"
      },
      "outputs": [
        {
          "data": {
            "text/plain": [
              "[Resize(size=(224, 224), interpolation=bilinear, max_size=None, antialias=warn),\n",
              " ToTensor()]"
            ]
          },
          "execution_count": 3,
          "metadata": {},
          "output_type": "execute_result"
        }
      ],
      "source": [
        "to_tensor"
      ]
    },
    {
      "cell_type": "code",
      "execution_count": 4,
      "metadata": {
        "id": "aGVNVte9f_M8"
      },
      "outputs": [],
      "source": [
        "import torchvision\n",
        "from torchvision import transforms\n",
        "import PIL\n",
        "transforms = [\n",
        "    Resize((224, 224)),\n",
        "    transforms.AutoAugment(),\n",
        "    ToTensor()\n",
        "]"
      ]
    },
    {
      "cell_type": "code",
      "execution_count": 5,
      "metadata": {
        "colab": {
          "base_uri": "https://localhost:8080/"
        },
        "id": "7nbJGgsNm2GM",
        "outputId": "c3b81803-9289-451f-c339-3fcd055495ce"
      },
      "outputs": [
        {
          "name": "stdout",
          "output_type": "stream",
          "text": [
            "[Resize(size=(224, 224), interpolation=bilinear, max_size=None, antialias=warn), AutoAugment(policy=AutoAugmentPolicy.IMAGENET, fill=None), ToTensor()]\n"
          ]
        }
      ],
      "source": [
        "print(transforms)"
      ]
    },
    {
      "cell_type": "code",
      "execution_count": 6,
      "metadata": {
        "colab": {
          "base_uri": "https://localhost:8080/"
        },
        "id": "SDYz3QOZB5qD",
        "outputId": "16231d8f-ec7c-42d6-ba30-6e730e904a8f"
      },
      "outputs": [
        {
          "name": "stdout",
          "output_type": "stream",
          "text": [
            "Downloading https://thor.robots.ox.ac.uk/datasets/pets/images.tar.gz to oxford-iiit-pet/images.tar.gz\n"
          ]
        },
        {
          "name": "stderr",
          "output_type": "stream",
          "text": [
            "100%|██████████| 791918971/791918971 [00:22<00:00, 35172196.82it/s]\n"
          ]
        },
        {
          "name": "stdout",
          "output_type": "stream",
          "text": [
            "Extracting oxford-iiit-pet/images.tar.gz to oxford-iiit-pet\n",
            "Downloading https://thor.robots.ox.ac.uk/datasets/pets/annotations.tar.gz to oxford-iiit-pet/annotations.tar.gz\n"
          ]
        },
        {
          "name": "stderr",
          "output_type": "stream",
          "text": [
            "100%|██████████| 19173078/19173078 [00:01<00:00, 14033939.95it/s]\n"
          ]
        },
        {
          "name": "stdout",
          "output_type": "stream",
          "text": [
            "Extracting oxford-iiit-pet/annotations.tar.gz to oxford-iiit-pet\n"
          ]
        }
      ],
      "source": [
        "class Compose(object):\n",
        "    def __init__(self, transforms):\n",
        "        self.transforms = transforms\n",
        "\n",
        "    def __call__(self, image, target):\n",
        "        for t in self.transforms:\n",
        "            image = t(image)\n",
        "        return image, target\n",
        "\n",
        "def show_images(images, num_samples=40, cols=8):\n",
        "    \"\"\" Plots some samples from the dataset \"\"\"\n",
        "    plt.figure(figsize=(15,15))\n",
        "    idx = int(len(dataset) / num_samples)\n",
        "    print(images)\n",
        "    for i, img in enumerate(images):\n",
        "        if i % idx == 0:\n",
        "            plt.subplot(int(num_samples/cols) + 1, cols, int(i/idx) + 1)\n",
        "            plt.imshow(to_pil_image(img[0]))\n",
        "\n",
        "dataset = OxfordIIITPet(root=\".\", download=True, transforms=Compose(to_tensor))\n",
        "# new_dataset = OxfordIIITPet(root=\".\", download=True, transforms=Compose(transforms))\n",
        "# show_images(dataset)\n"
      ]
    },
    {
      "cell_type": "code",
      "execution_count": 7,
      "metadata": {
        "id": "ytMyRTOJ5pVi"
      },
      "outputs": [],
      "source": [
        "from torchvision.models import vit_b_16"
      ]
    },
    {
      "cell_type": "code",
      "execution_count": 8,
      "metadata": {
        "id": "G_YEmEKRUKON"
      },
      "outputs": [],
      "source": [
        "from torch.utils.data import DataLoader\n",
        "from torch.utils.data import random_split\n",
        "\n",
        "train_split = int(0.8 * len(dataset))\n",
        "train, test = random_split(dataset, [train_split, len(dataset) - train_split])\n",
        "\n",
        "train_dataloader = DataLoader(train, batch_size=32, shuffle=True)\n",
        "test_dataloader = DataLoader(test, batch_size=32, shuffle=True)"
      ]
    },
    {
      "cell_type": "code",
      "execution_count": 24,
      "metadata": {
        "colab": {
          "base_uri": "https://localhost:8080/"
        },
        "id": "Y5GkVegtvdUh",
        "outputId": "0e46b02c-600a-4ae6-a354-120a88f0e1bd"
      },
      "outputs": [
        {
          "name": "stdout",
          "output_type": "stream",
          "text": [
            "2944\n",
            "736\n"
          ]
        }
      ],
      "source": [
        "print(len(train))\n",
        "print(len(test))"
      ]
    },
    {
      "cell_type": "code",
      "execution_count": 18,
      "metadata": {
        "colab": {
          "base_uri": "https://localhost:8080/"
        },
        "id": "5Won4l7kUM_F",
        "outputId": "18abcb7d-01b2-4676-fa3b-127b60b2e3f0"
      },
      "outputs": [
        {
          "name": "stdout",
          "output_type": "stream",
          "text": [
            ">>> Epoch 0 train loss:  0.6893809615107982\n",
            ">>> Epoch 0 test loss:  0.3192182534738727\n",
            "Model saved best ckpt\n",
            "Model saved last ckpt\n",
            ">>> Epoch 1 train loss:  0.17624200724632197\n",
            ">>> Epoch 1 test loss:  0.33617109173665877\n",
            "Model saved last ckpt\n",
            ">>> Epoch 2 train loss:  0.1015971913812277\n",
            ">>> Epoch 2 test loss:  0.27952877237744955\n",
            "Model saved best ckpt\n",
            "Model saved last ckpt\n",
            ">>> Epoch 3 train loss:  0.05725953197258565\n",
            ">>> Epoch 3 test loss:  0.30976883694529533\n",
            "Model saved last ckpt\n",
            ">>> Epoch 4 train loss:  0.04580108966658135\n",
            ">>> Epoch 4 test loss:  0.3144525265240151\n",
            "Model saved last ckpt\n",
            ">>> Epoch 5 train loss:  0.04738454906391385\n",
            ">>> Epoch 5 test loss:  0.3097314455586931\n",
            "Model saved last ckpt\n",
            ">>> Epoch 6 train loss:  0.02301816628112093\n",
            ">>> Epoch 6 test loss:  0.2973762372427661\n",
            "Model saved last ckpt\n",
            ">>> Epoch 7 train loss:  0.03411311396579866\n",
            ">>> Epoch 7 test loss:  0.2734046348411104\n",
            "Model saved best ckpt\n",
            "Model saved last ckpt\n",
            ">>> Epoch 8 train loss:  0.041152078934196056\n",
            ">>> Epoch 8 test loss:  0.2915698529585548\n",
            "Model saved last ckpt\n",
            ">>> Epoch 9 train loss:  0.041039885960661035\n",
            ">>> Epoch 9 test loss:  0.37799855143479677\n",
            "Model saved last ckpt\n"
          ]
        }
      ],
      "source": [
        "import torch.optim as optim\n",
        "from torch import nn\n",
        "from torch import Tensor\n",
        "import numpy as np\n",
        "\n",
        "\n",
        "device = \"cuda\"\n",
        "\n",
        "# class Net(nn.Module):\n",
        "#     def __init__(self):\n",
        "#         super(Net, self).__init__()\n",
        "#         self.model = vit_b_16(weights='IMAGENET1K_V1')\n",
        "#         for param in self.model.parameters():\n",
        "#              param.requires_grad = False\n",
        "#         self.model.heads = nn.Linear(768, 37)\n",
        "#         self.model.heads.weight.data.normal_(mean=0.5, std=0.5)\n",
        "#         self.model.heads.bias.data.zero_()\n",
        "#     def forward(self, x: torch.Tensor):\n",
        "#         x = self.model(x)\n",
        "#         return x\n",
        "\n",
        "\n",
        "model = vit_b_16(weights='IMAGENET1K_V1')\n",
        "for param in model.parameters():\n",
        "    param.requires_grad = False\n",
        "model.heads = nn.Linear(768, 37)\n",
        "\n",
        "model.to(device)\n",
        "\n",
        "optimizer = optim.AdamW(model.parameters(), lr=0.01, betas=(0.9, 0.999), weight_decay = 0.1)\n",
        "criterion = nn.CrossEntropyLoss()\n",
        "\n",
        "test_loss = 10\n",
        "best_loss = 10\n",
        "\n",
        "# #use for the test loss calculation\n",
        "# epoch_losses_test = []\n",
        "\n",
        "for epoch in range(10):\n",
        "    epoch_losses = []\n",
        "    model.train()\n",
        "    for step, (inputs, labels) in enumerate(train_dataloader):\n",
        "        inputs, labels = inputs.to(device), labels.to(device)\n",
        "        optimizer.zero_grad()\n",
        "        outputs = model(inputs)\n",
        "        loss = criterion(outputs, labels)\n",
        "        loss.backward()\n",
        "        optimizer.step()\n",
        "\n",
        "        #get training loss values\n",
        "        epoch_losses.append(loss.item())\n",
        "\n",
        "\n",
        "        #calculating training loss\n",
        "    print(f\">>> Epoch {epoch} train loss: \", np.mean(epoch_losses))\n",
        "\n",
        "    # #get the last_test_lost\n",
        "    # last_test_loss = np.mean(epoch_losses_test)\n",
        "\n",
        "    #initialize for this one\n",
        "    epoch_losses_test = []\n",
        "\n",
        "    model.eval()\n",
        "\n",
        "    for step, (inputs, labels) in enumerate(test_dataloader):\n",
        "        inputs, labels = inputs.to(device), labels.to(device)\n",
        "        outputs = model(inputs)\n",
        "        loss = criterion(outputs, labels)\n",
        "\n",
        "        #get this test lost values\n",
        "        epoch_losses_test.append(loss.item())\n",
        "\n",
        "    #calculating testloss\n",
        "    test_loss = np.mean(epoch_losses_test)\n",
        "\n",
        "    print(f\">>> Epoch {epoch} test loss: \", test_loss)\n",
        "\n",
        "    #saving files\n",
        "    if(best_loss > test_loss):\n",
        "          torch.save(model.state_dict(), 'best.pth')\n",
        "          torch.save(model, 'model_best.pth')\n",
        "          print(\"Model saved best ckpt\")\n",
        "          best_loss = test_loss\n",
        "\n",
        "    torch.save(model.state_dict(), 'last.pth')\n",
        "    torch.save(model, 'model_last.pth')\n",
        "    print(\"Model saved last ckpt\")"
      ]
    },
    {
      "cell_type": "code",
      "execution_count": 19,
      "metadata": {
        "colab": {
          "base_uri": "https://localhost:8080/"
        },
        "id": "ihX2qIAUOywr",
        "outputId": "96d09b76-db29-4324-8486-95f784dd54ef"
      },
      "outputs": [
        {
          "name": "stdout",
          "output_type": "stream",
          "text": [
            "Predicted classes tensor([33, 11,  5, 30, 15,  9, 36, 16, 12, 19,  9, 29,  5, 26, 14, 18, 32, 11,\n",
            "        33, 25, 12, 18, 12, 35,  6, 11, 23, 25, 36, 18, 21, 13],\n",
            "       device='cuda:0')\n",
            "Actual classes tensor([27, 11,  0, 30, 15, 27, 36, 16, 12, 19,  9, 29,  5, 26, 14, 18, 32, 11,\n",
            "         0, 25, 12, 18, 12, 35,  6, 11, 23, 25, 36, 18, 21, 13],\n",
            "       device='cuda:0')\n"
          ]
        }
      ],
      "source": [
        "model.eval()\n",
        "inputs, labels = next(iter(train_dataloader))\n",
        "inputs, labels = inputs.to(device), labels.to(device)\n",
        "outputs = model(inputs)\n",
        "\n",
        "\n",
        "print(\"Predicted classes\", outputs.argmax(-1))\n",
        "print(\"Actual classes\", labels)"
      ]
    },
    {
      "cell_type": "code",
      "execution_count": 20,
      "metadata": {
        "colab": {
          "base_uri": "https://localhost:8080/"
        },
        "id": "leOSQUx60guy",
        "outputId": "11bbb558-6a2e-4d21-bfa4-2d077f879d52"
      },
      "outputs": [
        {
          "name": "stdout",
          "output_type": "stream",
          "text": [
            "Predicted classes tensor([25, 18, 32,  9, 25, 18,  2, 22,  3,  1, 13, 11, 20, 36, 15, 28,  7, 15,\n",
            "        36,  7,  4, 30, 25, 26, 26,  2, 16,  8, 15, 25, 15,  1],\n",
            "       device='cuda:0')\n",
            "Actual classes tensor([25, 18, 32, 26, 25, 18, 34, 22,  3,  1, 13, 11, 20, 36, 15, 28,  7, 15,\n",
            "        36,  7,  3, 30, 25, 26, 26,  2, 16,  8, 15, 25, 15,  1],\n",
            "       device='cuda:0')\n"
          ]
        }
      ],
      "source": [
        "inputs, labels = next(iter(test_dataloader))\n",
        "inputs, labels = inputs.to(device), labels.to(device)\n",
        "outputs = model(inputs)\n",
        "\n",
        "\n",
        "print(\"Predicted classes\", outputs.argmax(-1))\n",
        "print(\"Actual classes\", labels)"
      ]
    },
    {
      "cell_type": "code",
      "execution_count": 21,
      "metadata": {
        "colab": {
          "base_uri": "https://localhost:8080/"
        },
        "id": "yEQkEDIMysSv",
        "outputId": "76bdfce1-6fcc-44d1-df38-089d8369bf03"
      },
      "outputs": [
        {
          "name": "stdout",
          "output_type": "stream",
          "text": [
            "Predicted classes tensor([23, 26,  9, 12, 24, 36, 28,  9, 32,  8, 24, 36, 23, 28, 28, 36, 26,  7,\n",
            "        30, 21, 14,  1, 14, 13, 27,  5, 26, 10, 15, 25, 27, 31],\n",
            "       device='cuda:0')\n",
            "Actual classes tensor([23, 26,  9, 12, 24, 36, 28,  9, 32,  8, 24, 36, 23, 28, 28, 36, 26,  7,\n",
            "        30, 21, 14,  1, 14, 13, 27,  5, 26, 10, 15, 25, 27, 31],\n",
            "       device='cuda:0')\n"
          ]
        }
      ],
      "source": [
        "model.load_state_dict(torch.load('best.pth'))\n",
        "inputs, labels = next(iter(train_dataloader))\n",
        "inputs, labels = inputs.to(device), labels.to(device)\n",
        "outputs = model(inputs)\n",
        "\n",
        "\n",
        "print(\"Predicted classes\", outputs.argmax(-1))\n",
        "print(\"Actual classes\", labels)"
      ]
    },
    {
      "cell_type": "code",
      "execution_count": 30,
      "metadata": {
        "colab": {
          "base_uri": "https://localhost:8080/"
        },
        "id": "TiJSqujry4g8",
        "outputId": "beba14ff-4d0b-4f1f-e52e-c5cd4ee1a7c7"
      },
      "outputs": [
        {
          "name": "stdout",
          "output_type": "stream",
          "text": [
            "Predicted classes tensor(22, device='cuda:0')\n",
            "Actual classes tensor([22, 15, 35,  4, 33, 34, 28, 17, 10, 12,  5,  7, 24, 25, 31, 12, 28, 10,\n",
            "        13, 21,  7,  4, 29, 25, 31, 20,  0,  7, 24,  4,  2, 11],\n",
            "       device='cuda:0')\n"
          ]
        }
      ],
      "source": [
        "inputs, labels = next(iter(test_dataloader))\n",
        "inputs, labels = inputs.to(device), labels.to(device)\n",
        "outputs = model(inputs)\n",
        "\n",
        "\n",
        "print(\"Predicted classes\", outputs.argmax(-1)[0])\n",
        "print(\"Actual classes\", labels)"
      ]
    },
    {
      "cell_type": "code",
      "execution_count": 55,
      "metadata": {
        "id": "OUYlAv-XwOWi"
      },
      "outputs": [],
      "source": [
        "inference = OxfordIIITPet(root=\".\", split='test', download=True, transforms=Compose(to_tensor))"
      ]
    },
    {
      "cell_type": "code",
      "execution_count": 56,
      "metadata": {
        "colab": {
          "base_uri": "https://localhost:8080/"
        },
        "id": "RD2G-pcPzrlz",
        "outputId": "4f03dad2-6e26-43c5-fdc9-b510e43343f6"
      },
      "outputs": [
        {
          "name": "stdout",
          "output_type": "stream",
          "text": [
            "3669\n"
          ]
        }
      ],
      "source": [
        "print(len(inference))"
      ]
    },
    {
      "cell_type": "code",
      "execution_count": 57,
      "metadata": {
        "id": "Z6FVYT8JwsMb"
      },
      "outputs": [],
      "source": [
        "inference_dataloader = DataLoader(inference, batch_size=32, shuffle=True)"
      ]
    },
    {
      "cell_type": "code",
      "execution_count": 58,
      "metadata": {
        "colab": {
          "base_uri": "https://localhost:8080/"
        },
        "id": "037_HmYb0WtU",
        "outputId": "32f52a95-fdc4-42ed-aacd-df86d9d4f456"
      },
      "outputs": [
        {
          "data": {
            "text/plain": [
              "115"
            ]
          },
          "execution_count": 58,
          "metadata": {},
          "output_type": "execute_result"
        }
      ],
      "source": [
        "len(inference_dataloader)"
      ]
    },
    {
      "cell_type": "code",
      "execution_count": 48,
      "metadata": {
        "colab": {
          "base_uri": "https://localhost:8080/"
        },
        "id": "-a6aavdxxh68",
        "outputId": "fc1e659f-572c-48b5-f627-10f509fdcc89"
      },
      "outputs": [
        {
          "name": "stdout",
          "output_type": "stream",
          "text": [
            "tensor(24, device='cuda:0')\n"
          ]
        }
      ],
      "source": [
        "print(labels[0])"
      ]
    },
    {
      "cell_type": "code",
      "execution_count": 64,
      "metadata": {
        "colab": {
          "base_uri": "https://localhost:8080/"
        },
        "id": "DYFsj-C8vuWU",
        "outputId": "c4c73bc6-3d3c-4a72-8ef4-bfba7316f2fd"
      },
      "outputs": [
        {
          "name": "stdout",
          "output_type": "stream",
          "text": [
            "Inference Accuracy: 0.8909784682474788\n"
          ]
        }
      ],
      "source": [
        "model.load_state_dict(torch.load('best.pth'))\n",
        "model.eval()\n",
        "correct = 0\n",
        "for step, (inputs, labels) in enumerate(inference_dataloader):\n",
        "    inputs, labels = inputs.to(device), labels.to(device)\n",
        "    outputs = model(inputs)\n",
        "    length = len(labels)\n",
        "\n",
        "    for i in range(length):\n",
        "        output = outputs.argmax(-1)[i]\n",
        "        label = labels[i]\n",
        "        if output == label:\n",
        "            correct += 1\n",
        "\n",
        "print(f\"Inference Accuracy: {correct/len(inference)}\")\n"
      ]
    },
    {
      "cell_type": "code",
      "execution_count": 60,
      "metadata": {
        "colab": {
          "base_uri": "https://localhost:8080/"
        },
        "id": "4xgpnDwr0jXR",
        "outputId": "359f4dba-5736-4050-a04d-349b42dfb2e2"
      },
      "outputs": [
        {
          "name": "stdout",
          "output_type": "stream",
          "text": [
            "Predicted classes tensor([20, 28, 14, 28, 23,  8, 12, 33, 10, 35, 15, 27,  6, 28,  6, 24, 23,  6,\n",
            "        12,  3,  9, 31, 20, 24, 22,  8, 29, 32, 20, 12,  7, 19],\n",
            "       device='cuda:0')\n",
            "Actual classes tensor([26, 28, 14, 28, 23,  8, 12,  0, 10, 35, 15,  9,  6, 28,  6, 24, 23, 26,\n",
            "        12,  3, 27, 31, 20, 24, 22,  8, 29, 32, 23, 12,  7, 19],\n",
            "       device='cuda:0')\n"
          ]
        }
      ],
      "source": [
        "inputs, labels = next(iter(inference_dataloader))\n",
        "inputs, labels = inputs.to(device), labels.to(device)\n",
        "outputs = model(inputs)\n",
        "\n",
        "print(\"Predicted classes\", outputs.argmax(-1))\n",
        "print(\"Actual classes\", labels)"
      ]
    }
  ],
  "metadata": {
    "accelerator": "GPU",
    "colab": {
      "gpuType": "V100",
      "provenance": []
    },
    "kernelspec": {
      "display_name": "Python 3",
      "name": "python3"
    },
    "language_info": {
      "name": "python"
    }
  },
  "nbformat": 4,
  "nbformat_minor": 0
}
