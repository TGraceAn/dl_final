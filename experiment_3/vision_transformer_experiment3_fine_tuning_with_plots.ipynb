{
  "cells": [
    {
      "cell_type": "code",
      "execution_count": 1,
      "metadata": {
        "id": "2-3VfzTCAXq1"
      },
      "outputs": [],
      "source": [
        "import torch\n",
        "#dataset link: https://www.robots.ox.ac.uk/~vgg/data/pets/ || https://thor.robots.ox.ac.uk/datasets/pets/images.tar.gz || https://thor.robots.ox.ac.uk/datasets/pets/annotations.tar.gz\n",
        "from torchvision.datasets import OxfordIIITPet\n",
        "import matplotlib.pyplot as plt\n",
        "from random import random\n",
        "from torchvision.transforms import Resize, ToTensor\n",
        "from torchvision.transforms.functional import to_pil_image"
      ]
    },
    {
      "cell_type": "code",
      "execution_count": 2,
      "metadata": {
        "id": "km65HLMfBiS5"
      },
      "outputs": [],
      "source": [
        "to_tensor = [Resize((224, 224)), ToTensor()] #pre-processing"
      ]
    },
    {
      "cell_type": "code",
      "execution_count": 3,
      "metadata": {
        "colab": {
          "base_uri": "https://localhost:8080/"
        },
        "id": "lwWKf8JjNchO",
        "outputId": "b4a5afd4-8835-4720-e23a-dfa457cbbf10"
      },
      "outputs": [
        {
          "output_type": "execute_result",
          "data": {
            "text/plain": [
              "[Resize(size=(224, 224), interpolation=bilinear, max_size=None, antialias=warn),\n",
              " ToTensor()]"
            ]
          },
          "metadata": {},
          "execution_count": 3
        }
      ],
      "source": [
        "to_tensor"
      ]
    },
    {
      "cell_type": "code",
      "source": [
        "import torchvision\n",
        "from torchvision import transforms\n",
        "import PIL\n",
        "transforms = [\n",
        "    Resize((224, 224)),\n",
        "    transforms.AutoAugment(),\n",
        "    ToTensor()\n",
        "]"
      ],
      "metadata": {
        "id": "aGVNVte9f_M8"
      },
      "execution_count": 4,
      "outputs": []
    },
    {
      "cell_type": "code",
      "source": [
        "print(transforms)"
      ],
      "metadata": {
        "colab": {
          "base_uri": "https://localhost:8080/"
        },
        "id": "7nbJGgsNm2GM",
        "outputId": "203e0678-bc4c-4611-8d24-8ad457e46249"
      },
      "execution_count": 5,
      "outputs": [
        {
          "output_type": "stream",
          "name": "stdout",
          "text": [
            "[Resize(size=(224, 224), interpolation=bilinear, max_size=None, antialias=warn), AutoAugment(policy=AutoAugmentPolicy.IMAGENET, fill=None), ToTensor()]\n"
          ]
        }
      ]
    },
    {
      "cell_type": "code",
      "execution_count": 6,
      "metadata": {
        "id": "SDYz3QOZB5qD",
        "colab": {
          "base_uri": "https://localhost:8080/"
        },
        "outputId": "b445e994-c7c4-420b-9bb2-696269bddb8b"
      },
      "outputs": [
        {
          "output_type": "stream",
          "name": "stdout",
          "text": [
            "Downloading https://thor.robots.ox.ac.uk/datasets/pets/images.tar.gz to oxford-iiit-pet/images.tar.gz\n"
          ]
        },
        {
          "output_type": "stream",
          "name": "stderr",
          "text": [
            "100%|██████████| 791918971/791918971 [00:24<00:00, 32605548.81it/s]\n"
          ]
        },
        {
          "output_type": "stream",
          "name": "stdout",
          "text": [
            "Extracting oxford-iiit-pet/images.tar.gz to oxford-iiit-pet\n",
            "Downloading https://thor.robots.ox.ac.uk/datasets/pets/annotations.tar.gz to oxford-iiit-pet/annotations.tar.gz\n"
          ]
        },
        {
          "output_type": "stream",
          "name": "stderr",
          "text": [
            "100%|██████████| 19173078/19173078 [00:01<00:00, 16116954.00it/s]\n"
          ]
        },
        {
          "output_type": "stream",
          "name": "stdout",
          "text": [
            "Extracting oxford-iiit-pet/annotations.tar.gz to oxford-iiit-pet\n"
          ]
        }
      ],
      "source": [
        "class Compose(object):\n",
        "    def __init__(self, transforms):\n",
        "        self.transforms = transforms\n",
        "\n",
        "    def __call__(self, image, target):\n",
        "        for t in self.transforms:\n",
        "            image = t(image)\n",
        "        return image, target\n",
        "\n",
        "def show_images(images, num_samples=40, cols=8):\n",
        "    \"\"\" Plots some samples from the dataset \"\"\"\n",
        "    plt.figure(figsize=(15,15))\n",
        "    idx = int(len(dataset) / num_samples)\n",
        "    print(images)\n",
        "    for i, img in enumerate(images):\n",
        "        if i % idx == 0:\n",
        "            plt.subplot(int(num_samples/cols) + 1, cols, int(i/idx) + 1)\n",
        "            plt.imshow(to_pil_image(img[0]))\n",
        "\n",
        "dataset = OxfordIIITPet(root=\".\", download=True, transforms=Compose(to_tensor))\n",
        "# show_images(dataset)\n"
      ]
    },
    {
      "cell_type": "code",
      "execution_count": 7,
      "metadata": {
        "id": "ytMyRTOJ5pVi"
      },
      "outputs": [],
      "source": [
        "from torchvision.models import vit_b_16"
      ]
    },
    {
      "cell_type": "code",
      "execution_count": 8,
      "metadata": {
        "id": "G_YEmEKRUKON"
      },
      "outputs": [],
      "source": [
        "from torch.utils.data import DataLoader\n",
        "from torch.utils.data import random_split\n",
        "\n",
        "train_split = int(0.8 * len(dataset))\n",
        "train, test = random_split(dataset, [train_split, len(dataset) - train_split])\n",
        "\n",
        "train_dataloader = DataLoader(train, batch_size=32, shuffle=True)\n",
        "test_dataloader = DataLoader(test, batch_size=32, shuffle=True)"
      ]
    },
    {
      "cell_type": "code",
      "source": [
        "print(len(train))\n",
        "print(len(test))"
      ],
      "metadata": {
        "colab": {
          "base_uri": "https://localhost:8080/"
        },
        "id": "Y5GkVegtvdUh",
        "outputId": "40a39a94-cf41-4b29-d866-d006974b59f4"
      },
      "execution_count": 9,
      "outputs": [
        {
          "output_type": "stream",
          "name": "stdout",
          "text": [
            "2944\n",
            "736\n"
          ]
        }
      ]
    },
    {
      "cell_type": "code",
      "execution_count": 12,
      "metadata": {
        "colab": {
          "base_uri": "https://localhost:8080/"
        },
        "id": "5Won4l7kUM_F",
        "outputId": "6766cceb-019e-4b5b-d57d-3eddb961c106"
      },
      "outputs": [
        {
          "output_type": "stream",
          "name": "stdout",
          "text": [
            ">>> Epoch 0 train loss:  0.6813692357391119\n",
            ">>> Epoch 0 test loss:  0.49026869464179745\n",
            "Model saved best ckpt\n",
            "Model saved last ckpt\n",
            ">>> Epoch 1 train loss:  0.18160574909542565\n",
            ">>> Epoch 1 test loss:  0.3687052036757055\n",
            "Model saved best ckpt\n",
            "Model saved last ckpt\n",
            ">>> Epoch 2 train loss:  0.07403942989691606\n",
            ">>> Epoch 2 test loss:  0.36192171696735465\n",
            "Model saved best ckpt\n",
            "Model saved last ckpt\n",
            ">>> Epoch 3 train loss:  0.06318681454285979\n",
            ">>> Epoch 3 test loss:  0.40894024203652923\n",
            "Model saved last ckpt\n",
            ">>> Epoch 4 train loss:  0.05996150353862702\n",
            ">>> Epoch 4 test loss:  0.3763840493300687\n",
            "Model saved last ckpt\n",
            ">>> Epoch 5 train loss:  0.029853797515186117\n",
            ">>> Epoch 5 test loss:  0.36971805601016333\n",
            "Model saved last ckpt\n",
            ">>> Epoch 6 train loss:  0.04291840063397894\n",
            ">>> Epoch 6 test loss:  0.39388992540214374\n",
            "Model saved last ckpt\n",
            ">>> Epoch 7 train loss:  0.029746365480367905\n",
            ">>> Epoch 7 test loss:  0.3751270698140497\n",
            "Model saved last ckpt\n",
            ">>> Epoch 8 train loss:  0.031244856625562534\n",
            ">>> Epoch 8 test loss:  0.3405811307222947\n",
            "Model saved best ckpt\n",
            "Model saved last ckpt\n",
            ">>> Epoch 9 train loss:  0.03057860736431473\n",
            ">>> Epoch 9 test loss:  0.3734648687684018\n",
            "Model saved last ckpt\n"
          ]
        }
      ],
      "source": [
        "import torch.optim as optim\n",
        "from torch import nn\n",
        "from torch import Tensor\n",
        "import numpy as np\n",
        "\n",
        "\n",
        "device = \"cuda\"\n",
        "\n",
        "# class Net(nn.Module):\n",
        "#     def __init__(self):\n",
        "#         super(Net, self).__init__()\n",
        "#         self.model = vit_b_16(weights='IMAGENET1K_V1')\n",
        "#         for param in self.model.parameters():\n",
        "#              param.requires_grad = False\n",
        "#         self.model.heads = nn.Linear(768, 37)\n",
        "#         self.model.heads.weight.data.normal_(mean=0.5, std=0.5)\n",
        "#         self.model.heads.bias.data.zero_()\n",
        "#     def forward(self, x: torch.Tensor):\n",
        "#         x = self.model(x)\n",
        "#         return x\n",
        "loss_values = []\n",
        "test_loss_values = []\n",
        "\n",
        "model = vit_b_16(weights='IMAGENET1K_V1')\n",
        "for param in model.parameters():\n",
        "    param.requires_grad = False\n",
        "model.heads = nn.Linear(768, 37)\n",
        "\n",
        "model.to(device)\n",
        "\n",
        "optimizer = optim.AdamW(model.parameters(), lr=0.01, betas=(0.9, 0.999), weight_decay = 0.1)\n",
        "criterion = nn.CrossEntropyLoss()\n",
        "\n",
        "test_loss = 10\n",
        "best_loss = 10\n",
        "\n",
        "# #use for the test loss calculation\n",
        "# epoch_losses_test = []\n",
        "\n",
        "for epoch in range(10):\n",
        "    epoch_losses = []\n",
        "    model.train()\n",
        "    for step, (inputs, labels) in enumerate(train_dataloader):\n",
        "        inputs, labels = inputs.to(device), labels.to(device)\n",
        "        optimizer.zero_grad()\n",
        "        outputs = model(inputs)\n",
        "        loss = criterion(outputs, labels)\n",
        "        loss_values.append(loss)\n",
        "        loss.backward()\n",
        "        optimizer.step()\n",
        "\n",
        "        #get training loss values\n",
        "        epoch_losses.append(loss.item())\n",
        "\n",
        "\n",
        "        #calculating training loss\n",
        "    print(f\">>> Epoch {epoch} train loss: \", np.mean(epoch_losses))\n",
        "\n",
        "    # #get the last_test_lost\n",
        "    # last_test_loss = np.mean(epoch_losses_test)\n",
        "\n",
        "    #initialize for this one\n",
        "    epoch_losses_test = []\n",
        "\n",
        "    model.eval()\n",
        "\n",
        "    for step, (inputs, labels) in enumerate(test_dataloader):\n",
        "        inputs, labels = inputs.to(device), labels.to(device)\n",
        "        outputs = model(inputs)\n",
        "        loss = criterion(outputs, labels)\n",
        "\n",
        "\n",
        "        #get this test lost values\n",
        "        epoch_losses_test.append(loss.item())\n",
        "\n",
        "    #calculating testloss\n",
        "    test_loss = np.mean(epoch_losses_test)\n",
        "    test_loss_values.append(test_loss)\n",
        "\n",
        "    print(f\">>> Epoch {epoch} test loss: \", test_loss)\n",
        "\n",
        "    #saving files\n",
        "    if(best_loss > test_loss):\n",
        "          torch.save(model.state_dict(), 'best.pth')\n",
        "          torch.save(model, 'model_best.pth')\n",
        "          print(\"Model saved best ckpt\")\n",
        "          best_loss = test_loss\n",
        "\n",
        "    torch.save(model.state_dict(), 'last.pth')\n",
        "    torch.save(model, 'model_last.pth')\n",
        "    print(\"Model saved last ckpt\")"
      ]
    },
    {
      "cell_type": "code",
      "source": [
        "import matplotlib.pyplot as plt\n",
        "for i in range(len(loss_values)):\n",
        "    loss_values[i] = loss_values[i].item()\n",
        "\n",
        "for i in range(len(test_loss_values)):\n",
        "    test_loss_values[i] = test_loss_values[i].item()\n"
      ],
      "metadata": {
        "colab": {
          "base_uri": "https://localhost:8080/",
          "height": 250
        },
        "id": "snHAzNiu9y_i",
        "outputId": "c4ec1a10-a6a2-4c93-bcc9-1cac9285938a"
      },
      "execution_count": 15,
      "outputs": [
        {
          "output_type": "error",
          "ename": "AttributeError",
          "evalue": "ignored",
          "traceback": [
            "\u001b[0;31m---------------------------------------------------------------------------\u001b[0m",
            "\u001b[0;31mAttributeError\u001b[0m                            Traceback (most recent call last)",
            "\u001b[0;32m<ipython-input-15-56565a794954>\u001b[0m in \u001b[0;36m<cell line: 2>\u001b[0;34m()\u001b[0m\n\u001b[1;32m      1\u001b[0m \u001b[0;32mimport\u001b[0m \u001b[0mmatplotlib\u001b[0m\u001b[0;34m.\u001b[0m\u001b[0mpyplot\u001b[0m \u001b[0;32mas\u001b[0m \u001b[0mplt\u001b[0m\u001b[0;34m\u001b[0m\u001b[0;34m\u001b[0m\u001b[0m\n\u001b[1;32m      2\u001b[0m \u001b[0;32mfor\u001b[0m \u001b[0mi\u001b[0m \u001b[0;32min\u001b[0m \u001b[0mrange\u001b[0m\u001b[0;34m(\u001b[0m\u001b[0mlen\u001b[0m\u001b[0;34m(\u001b[0m\u001b[0mloss_values\u001b[0m\u001b[0;34m)\u001b[0m\u001b[0;34m)\u001b[0m\u001b[0;34m:\u001b[0m\u001b[0;34m\u001b[0m\u001b[0;34m\u001b[0m\u001b[0m\n\u001b[0;32m----> 3\u001b[0;31m     \u001b[0mloss_values\u001b[0m\u001b[0;34m[\u001b[0m\u001b[0mi\u001b[0m\u001b[0;34m]\u001b[0m \u001b[0;34m=\u001b[0m \u001b[0mloss_values\u001b[0m\u001b[0;34m[\u001b[0m\u001b[0mi\u001b[0m\u001b[0;34m]\u001b[0m\u001b[0;34m.\u001b[0m\u001b[0mitem\u001b[0m\u001b[0;34m(\u001b[0m\u001b[0;34m)\u001b[0m\u001b[0;34m\u001b[0m\u001b[0;34m\u001b[0m\u001b[0m\n\u001b[0m\u001b[1;32m      4\u001b[0m \u001b[0;34m\u001b[0m\u001b[0m\n\u001b[1;32m      5\u001b[0m \u001b[0;32mfor\u001b[0m \u001b[0mi\u001b[0m \u001b[0;32min\u001b[0m \u001b[0mrange\u001b[0m\u001b[0;34m(\u001b[0m\u001b[0mlen\u001b[0m\u001b[0;34m(\u001b[0m\u001b[0mtest_loss_values\u001b[0m\u001b[0;34m)\u001b[0m\u001b[0;34m)\u001b[0m\u001b[0;34m:\u001b[0m\u001b[0;34m\u001b[0m\u001b[0;34m\u001b[0m\u001b[0m\n",
            "\u001b[0;31mAttributeError\u001b[0m: 'float' object has no attribute 'item'"
          ]
        }
      ]
    },
    {
      "cell_type": "code",
      "source": [
        "plt.plot(test_loss_values, label='test loss')\n",
        "plt.legend()\n",
        "plt.show()"
      ],
      "metadata": {
        "colab": {
          "base_uri": "https://localhost:8080/",
          "height": 430
        },
        "id": "vgB9HAKrCSil",
        "outputId": "2349b92a-0d9e-4757-cd6f-0a664d455500"
      },
      "execution_count": 19,
      "outputs": [
        {
          "output_type": "display_data",
          "data": {
            "text/plain": [
              "<Figure size 640x480 with 1 Axes>"
            ],
            "image/png": "[encoded data removed]"
          },
          "metadata": {}
        }
      ]
    },
    {
      "cell_type": "code",
      "source": [
        "plt.plot(loss_values, label='train loss')\n",
        "plt.legend()\n",
        "plt.show()"
      ],
      "metadata": {
        "colab": {
          "base_uri": "https://localhost:8080/",
          "height": 430
        },
        "id": "MbB1oxNeCVXt",
        "outputId": "1a76442b-9715-4487-e4d1-1f5ce0a215e9"
      },
      "execution_count": 20,
      "outputs": [
        {
          "output_type": "display_data",
          "data": {
            "text/plain": [
              "<Figure size 640x480 with 1 Axes>"
            ],
            "image/png": "[encoded data removed]"
          },
          "metadata": {}
        }
      ]
    },
    {
      "cell_type": "code",
      "source": [
        "model.eval()\n",
        "inputs, labels = next(iter(train_dataloader))\n",
        "inputs, labels = inputs.to(device), labels.to(device)\n",
        "outputs = model(inputs)\n",
        "\n",
        "\n",
        "print(\"Predicted classes\", outputs.argmax(-1))\n",
        "print(\"Actual classes\", labels)"
      ],
      "metadata": {
        "id": "ihX2qIAUOywr",
        "colab": {
          "base_uri": "https://localhost:8080/"
        },
        "outputId": "340ff637-e5a3-48c7-8ca4-68727c048bbc"
      },
      "execution_count": 21,
      "outputs": [
        {
          "output_type": "stream",
          "name": "stdout",
          "text": [
            "Predicted classes tensor([31, 27,  1,  0,  4, 36, 22,  9, 28, 35,  9,  9, 34, 16,  4, 11, 15,  0,\n",
            "        30,  7, 20, 28, 18, 17, 14, 32,  1, 25, 22,  1, 16, 28],\n",
            "       device='cuda:0')\n",
            "Actual classes tensor([31, 27,  4,  0,  4, 36, 22,  9,  3, 35,  9,  9, 34, 16,  4, 11, 15,  0,\n",
            "        30,  7, 20, 28, 18, 17, 14, 32,  1, 25, 22,  1, 16, 28],\n",
            "       device='cuda:0')\n"
          ]
        }
      ]
    },
    {
      "cell_type": "code",
      "source": [
        "inputs, labels = next(iter(test_dataloader))\n",
        "inputs, labels = inputs.to(device), labels.to(device)\n",
        "outputs = model(inputs)\n",
        "\n",
        "\n",
        "print(\"Predicted classes\", outputs.argmax(-1))\n",
        "print(\"Actual classes\", labels)"
      ],
      "metadata": {
        "id": "leOSQUx60guy",
        "colab": {
          "base_uri": "https://localhost:8080/"
        },
        "outputId": "9810c256-4cc9-470a-d813-daca4d1862bd"
      },
      "execution_count": 22,
      "outputs": [
        {
          "output_type": "stream",
          "name": "stdout",
          "text": [
            "Predicted classes tensor([28,  6, 11, 19,  0, 25, 35, 28, 31, 32,  5, 21,  7, 24,  2, 29,  2, 28,\n",
            "        26, 26, 18, 30, 12, 34, 10, 17,  6, 23, 36, 12, 21, 22],\n",
            "       device='cuda:0')\n",
            "Actual classes tensor([28,  6, 11, 19,  0, 25, 35, 28, 31, 32, 11, 21,  7, 24,  2, 29,  2, 28,\n",
            "        26, 26, 18, 30, 12, 34, 10, 17,  6, 23, 36, 12, 21, 22],\n",
            "       device='cuda:0')\n"
          ]
        }
      ]
    },
    {
      "cell_type": "code",
      "source": [
        "model.load_state_dict(torch.load('best.pth'))\n",
        "inputs, labels = next(iter(train_dataloader))\n",
        "inputs, labels = inputs.to(device), labels.to(device)\n",
        "outputs = model(inputs)\n",
        "\n",
        "\n",
        "print(\"Predicted classes\", outputs.argmax(-1))\n",
        "print(\"Actual classes\", labels)"
      ],
      "metadata": {
        "colab": {
          "base_uri": "https://localhost:8080/"
        },
        "id": "yEQkEDIMysSv",
        "outputId": "a18bc8be-9654-425e-d898-2020b350f253"
      },
      "execution_count": 23,
      "outputs": [
        {
          "output_type": "stream",
          "name": "stdout",
          "text": [
            "Predicted classes tensor([25,  2,  7,  9, 18, 32, 25, 19,  9, 27, 22,  8, 27, 10, 12, 12, 20,  0,\n",
            "         4, 36,  1, 31, 25, 12,  8, 29, 17,  8, 13, 28, 35, 12],\n",
            "       device='cuda:0')\n",
            "Actual classes tensor([25,  2,  7,  9, 18, 32, 25, 19,  9, 27, 22,  8, 27, 10, 12, 12, 20,  0,\n",
            "         4, 36,  1, 31, 25, 12,  8, 29, 17,  8, 13, 28, 35, 12],\n",
            "       device='cuda:0')\n"
          ]
        }
      ]
    },
    {
      "cell_type": "code",
      "source": [
        "inputs, labels = next(iter(test_dataloader))\n",
        "inputs, labels = inputs.to(device), labels.to(device)\n",
        "outputs = model(inputs)\n",
        "\n",
        "\n",
        "print(\"Predicted classes\", outputs.argmax(-1)[0])\n",
        "print(\"Actual classes\", labels)"
      ],
      "metadata": {
        "colab": {
          "base_uri": "https://localhost:8080/"
        },
        "id": "TiJSqujry4g8",
        "outputId": "6bc65643-3bf5-4b99-ad8f-7e2a236fed3a"
      },
      "execution_count": 24,
      "outputs": [
        {
          "output_type": "stream",
          "name": "stdout",
          "text": [
            "Predicted classes tensor(20, device='cuda:0')\n",
            "Actual classes tensor([20, 36,  3, 23,  8, 31,  3, 36, 16, 10, 12, 12, 16,  0,  5, 17, 16, 18,\n",
            "        29, 21, 13,  5, 29, 18, 27,  6, 29,  7, 24, 19, 23, 36],\n",
            "       device='cuda:0')\n"
          ]
        }
      ]
    },
    {
      "cell_type": "code",
      "source": [
        "inference = OxfordIIITPet(root=\".\", split='test', download=True, transforms=Compose(to_tensor))"
      ],
      "metadata": {
        "id": "OUYlAv-XwOWi"
      },
      "execution_count": 25,
      "outputs": []
    },
    {
      "cell_type": "code",
      "source": [
        "print(len(inference))"
      ],
      "metadata": {
        "colab": {
          "base_uri": "https://localhost:8080/"
        },
        "id": "RD2G-pcPzrlz",
        "outputId": "e0fec703-af9d-449d-8aad-3f06ab3c6c9a"
      },
      "execution_count": 26,
      "outputs": [
        {
          "output_type": "stream",
          "name": "stdout",
          "text": [
            "3669\n"
          ]
        }
      ]
    },
    {
      "cell_type": "code",
      "source": [
        "inference_dataloader = DataLoader(inference, batch_size=32, shuffle=True)"
      ],
      "metadata": {
        "id": "Z6FVYT8JwsMb"
      },
      "execution_count": 27,
      "outputs": []
    },
    {
      "cell_type": "code",
      "source": [
        "len(inference_dataloader)"
      ],
      "metadata": {
        "colab": {
          "base_uri": "https://localhost:8080/"
        },
        "id": "037_HmYb0WtU",
        "outputId": "c100621d-f102-4af3-d1d2-eecf7bd8cc37"
      },
      "execution_count": 28,
      "outputs": [
        {
          "output_type": "execute_result",
          "data": {
            "text/plain": [
              "115"
            ]
          },
          "metadata": {},
          "execution_count": 28
        }
      ]
    },
    {
      "cell_type": "code",
      "source": [
        "print(labels[0])"
      ],
      "metadata": {
        "colab": {
          "base_uri": "https://localhost:8080/"
        },
        "id": "-a6aavdxxh68",
        "outputId": "c91b89a6-7190-40d0-8e04-7a76247d101c"
      },
      "execution_count": 29,
      "outputs": [
        {
          "output_type": "stream",
          "name": "stdout",
          "text": [
            "tensor(20, device='cuda:0')\n"
          ]
        }
      ]
    },
    {
      "cell_type": "code",
      "source": [
        "correct = 0\n",
        "for step, (inputs, labels) in enumerate(inference_dataloader):\n",
        "    inputs, labels = inputs.to(device), labels.to(device)\n",
        "    outputs = model(inputs)\n",
        "    length = len(labels)\n",
        "\n",
        "    for i in range(length):\n",
        "        output = outputs.argmax(-1)[i]\n",
        "        label = labels[i]\n",
        "        if output == label:\n",
        "            correct += 1\n",
        "\n",
        "print(f\"Inference Accuracy: {correct/len(inference)}\")\n",
        "\n"
      ],
      "metadata": {
        "colab": {
          "base_uri": "https://localhost:8080/"
        },
        "id": "DYFsj-C8vuWU",
        "outputId": "f3a1e7ef-e1a7-48c3-b19f-1f93ef9c66ef"
      },
      "execution_count": 30,
      "outputs": [
        {
          "output_type": "stream",
          "name": "stdout",
          "text": [
            "Inference Accuracy: 0.8988825292995366\n"
          ]
        }
      ]
    },
    {
      "cell_type": "code",
      "source": [
        "inputs, labels = next(iter(inference_dataloader))\n",
        "inputs, labels = inputs.to(device), labels.to(device)\n",
        "outputs = model(inputs)\n",
        "\n",
        "print(\"Predicted classes\", outputs.argmax(-1))\n",
        "print(\"Actual classes\", labels)"
      ],
      "metadata": {
        "colab": {
          "base_uri": "https://localhost:8080/"
        },
        "id": "4xgpnDwr0jXR",
        "outputId": "0878788d-3493-4035-97e3-2a8578ab7fff"
      },
      "execution_count": 31,
      "outputs": [
        {
          "output_type": "stream",
          "name": "stdout",
          "text": [
            "Predicted classes tensor([ 8, 13, 23,  2, 20, 36, 25,  1, 29, 31, 22, 25, 30, 26, 26,  6, 33, 16,\n",
            "         2, 18,  1,  0,  4,  3, 10,  5, 24, 10, 24,  3, 22,  3],\n",
            "       device='cuda:0')\n",
            "Actual classes tensor([ 8, 13, 23,  2, 20, 36, 25,  1, 29, 31, 22, 25, 30, 26, 26,  6, 33, 16,\n",
            "        34, 18,  1,  0,  4,  3, 10,  5, 24, 10, 24,  3, 22,  3],\n",
            "       device='cuda:0')\n"
          ]
        }
      ]
    },
    {
      "cell_type": "code",
      "source": [
        "# confusion matrix\n",
        "from sklearn.metrics import confusion_matrix\n",
        "\n",
        "y_pred = []\n",
        "y_true = []\n",
        "model.to('cpu')\n",
        "for step, (inputs, labels) in enumerate(inference_dataloader):\n",
        "    inputs, labels = inputs.to('cpu'), labels.to('cpu')\n",
        "    outputs = model(inputs)\n",
        "    length = len(labels)\n",
        "\n",
        "    for i in range(length):\n",
        "        output = outputs.argmax(-1)[i]\n",
        "        label = labels[i]\n",
        "        y_pred.append(output)\n",
        "        y_true.append(label)\n",
        "\n",
        "cm = confusion_matrix(y_true, y_pred)"
      ],
      "metadata": {
        "id": "v81a4bW6-ALb"
      },
      "execution_count": 37,
      "outputs": []
    },
    {
      "cell_type": "code",
      "source": [],
      "metadata": {
        "id": "RWvh4W58NjC-"
      },
      "execution_count": null,
      "outputs": []
    },
    {
      "cell_type": "code",
      "source": [
        "plt.imshow(confusion_matrix(y_true, y_pred))\n"
      ],
      "metadata": {
        "colab": {
          "base_uri": "https://localhost:8080/",
          "height": 448
        },
        "id": "5MGibBuQNdhB",
        "outputId": "73b03624-f8a4-45b2-edc9-27c65bea95a4"
      },
      "execution_count": 40,
      "outputs": [
        {
          "output_type": "execute_result",
          "data": {
            "text/plain": [
              "<matplotlib.image.AxesImage at 0x78a4288d6590>"
            ]
          },
          "metadata": {},
          "execution_count": 40
        },
        {
          "output_type": "display_data",
          "data": {
            "text/plain": [
              "<Figure size 640x480 with 1 Axes>"
            ],
            "image/png": "[encoded data removed]"
          },
          "metadata": {}
        }
      ]
    }
  ],
  "metadata": {
    "accelerator": "GPU",
    "colab": {
      "provenance": [],
      "gpuType": "T4"
    },
    "kernelspec": {
      "display_name": "Python 3",
      "name": "python3"
    },
    "language_info": {
      "name": "python"
    }
  },
  "nbformat": 4,
  "nbformat_minor": 0
}